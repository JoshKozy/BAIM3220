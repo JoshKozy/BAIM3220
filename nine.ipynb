{
 "cells": [
  {
   "cell_type": "markdown",
   "id": "35f59387",
   "metadata": {},
   "source": [
    "---"
   ]
  },
  {
   "cell_type": "markdown",
   "id": "a666c978-a45b-4a04-8633-e80b64c50e7a",
   "metadata": {},
   "source": [
    "### Investigating sales data\n",
    "\n",
    "- In this notebook, you will investigate data about sales representatives in four regions\n",
    "- To answer the questions in the notebook, you need to carefully investigate the structure of the dataframe\n",
    "- Use methods like `df.columns` and `df.head` to get a sense of the structure of the data before attempting the question\n",
    "- Be sure you understand what the data represents. That is almost always the first step in a data analysis problem"
   ]
  },
  {
   "cell_type": "markdown",
   "id": "83f9f454-3e8c-4581-8185-77e96ce1eb23",
   "metadata": {},
   "source": [
    "### Sales to region\n",
    "\n",
    "- We will get started by writing a helper function you will use throughout the problem set"
   ]
  },
  {
   "cell_type": "code",
   "execution_count": null,
   "id": "9227885e-c7aa-42c6-92c9-3dba86136a33",
   "metadata": {
    "tags": []
   },
   "outputs": [],
   "source": [
    "import pandas as pd\n",
    "from pandas import DataFrame\n",
    "df = pd.read_csv(\"sales.csv\")"
   ]
  },
  {
   "cell_type": "code",
   "execution_count": null,
   "id": "736299e8-058e-4efa-8383-46f92b36580d",
   "metadata": {
    "deletable": false,
    "nbgrader": {
     "cell_type": "code",
     "checksum": "8a7b42b7a10f1407c59d1f084f6550c8",
     "grade": false,
     "grade_id": "cell-55cd20aa23526771",
     "locked": false,
     "schema_version": 3,
     "solution": true,
     "task": false
    },
    "tags": []
   },
   "outputs": [],
   "source": [
    "def get_city_to_region(input_df: DataFrame) -> dict:\n",
    "    '''\n",
    "    Create a dictionary that maps a city to a region\n",
    "    \n",
    "    We will use this to fill in missing data later in the problem set\n",
    "    \n",
    "    For instance, if a sales rep is located in Boston you know they are in the \n",
    "    northeast region. If a sales rep is located in Atlanta you know they are in\n",
    "    the southeast region. Be sure to look carefully at the dataset to \n",
    "    understand how to construct this mapping. It will be clear from\n",
    "    context if you examine the data\n",
    "    '''\n",
    "    # YOUR CODE HERE\n",
    "    raise NotImplementedError()"
   ]
  },
  {
   "cell_type": "code",
   "execution_count": null,
   "id": "f3b1b27e-9742-4d58-bee0-c98ab22e2962",
   "metadata": {
    "deletable": false,
    "editable": false,
    "nbgrader": {
     "cell_type": "code",
     "checksum": "1a725842abab4acec25bccb8b1fbd637",
     "grade": true,
     "grade_id": "cell-afeb66cb70f6b17b",
     "locked": true,
     "points": 2.5,
     "schema_version": 3,
     "solution": false,
     "task": false
    },
    "tags": []
   },
   "outputs": [],
   "source": [
    "# This is a test\n",
    "\n",
    "df = pd.read_csv(\"sales.csv\")\n",
    "assert type(get_city_to_region(df)) == dict, \"The return type should be a dictionary\""
   ]
  },
  {
   "cell_type": "code",
   "execution_count": null,
   "id": "c33b97ff-d3e6-4429-ba09-2594ec6446fb",
   "metadata": {
    "deletable": false,
    "editable": false,
    "nbgrader": {
     "cell_type": "code",
     "checksum": "1b125d1265e7df52d799561ee5bea906",
     "grade": true,
     "grade_id": "cell-ceea47f120a2fa3b",
     "locked": true,
     "points": 3.5,
     "schema_version": 3,
     "solution": false,
     "task": false
    },
    "tags": []
   },
   "outputs": [],
   "source": [
    "# This is a test\n",
    "\n",
    "df = pd.read_csv(\"sales.csv\")\n",
    "assert get_city_to_region(df)[\"Atlanta\"] == \"SE\", \"The region for Atlanta should be SE\"\n",
    "assert get_city_to_region(df)[\"Boston\"] == \"NE\", \"The region for Boston should be NE\""
   ]
  },
  {
   "cell_type": "code",
   "execution_count": null,
   "id": "0f20ee76-88d9-4621-91ee-520ab8d121d8",
   "metadata": {
    "deletable": false,
    "editable": false,
    "nbgrader": {
     "cell_type": "code",
     "checksum": "98fdcb597349d97dd996df9c55ca1f15",
     "grade": true,
     "grade_id": "cell-58470d4c0da303c6",
     "locked": true,
     "points": 3,
     "schema_version": 3,
     "solution": false,
     "task": false
    },
    "tags": []
   },
   "outputs": [],
   "source": [
    "# this is a hidden test of get_city_to_region\n"
   ]
  },
  {
   "cell_type": "code",
   "execution_count": null,
   "id": "41db7d0d-bbe5-4dbc-95c0-7b86899db232",
   "metadata": {
    "deletable": false,
    "nbgrader": {
     "cell_type": "code",
     "checksum": "230937d71de15d589ed49555ba725b40",
     "grade": false,
     "grade_id": "cell-4be48fd37bff33b8",
     "locked": false,
     "schema_version": 3,
     "solution": true,
     "task": false
    },
    "tags": []
   },
   "outputs": [],
   "source": [
    "def fill_in_regions(input_df: DataFrame) -> DataFrame:\n",
    "    '''\n",
    "    After some initial analysis, you realize that\n",
    "    some data is missing for some sales reps. The sales \n",
    "    rep's city is included in the data, but the region\n",
    "    is sometimes left out. \n",
    "    \n",
    "    Use your get_city_to_region function to fill in any\n",
    "    missing regions in the dataset. Then return the same \n",
    "    dataset with any missing regions filled in.\n",
    "\n",
    "    Again, be sure to look carefully at the data to understand how to \n",
    "    correctly fill out this function. Examine the output of\n",
    "    this function. Does it make sense?\n",
    "    '''\n",
    "    \n",
    "    city2region = get_city_to_region(input_df)\n",
    "    # YOUR CODE HERE\n",
    "    raise NotImplementedError()"
   ]
  },
  {
   "cell_type": "code",
   "execution_count": null,
   "id": "12453e8d-3b61-48fe-86b2-9c433593202c",
   "metadata": {
    "deletable": false,
    "editable": false,
    "nbgrader": {
     "cell_type": "code",
     "checksum": "6cde3e7f2491d2e9b491b78e7a44e181",
     "grade": true,
     "grade_id": "cell-15be49ef4210dd06",
     "locked": true,
     "points": 2,
     "schema_version": 3,
     "solution": false,
     "task": false
    },
    "tags": []
   },
   "outputs": [],
   "source": [
    "# This is a test\n",
    "\n",
    "df = pd.read_csv(\"sales.csv\")\n",
    "assert type(fill_in_regions(df)) == DataFrame, \"The return type should be a data frame\""
   ]
  },
  {
   "cell_type": "code",
   "execution_count": null,
   "id": "711538fc-ec74-4351-9661-c04f05af8224",
   "metadata": {
    "deletable": false,
    "editable": false,
    "nbgrader": {
     "cell_type": "code",
     "checksum": "57ed32621e752e2739797bf19011f9ba",
     "grade": true,
     "grade_id": "cell-8285c78439ddc4b5",
     "locked": true,
     "points": 2,
     "schema_version": 3,
     "solution": false,
     "task": false
    },
    "tags": []
   },
   "outputs": [],
   "source": [
    "# This is a  test\n",
    "\n",
    "df = pd.read_csv(\"sales.csv\")\n",
    "filled = fill_in_regions(df)\n",
    "assert set(filled[filled[\"home_city\"] == \"Boston\"][\"sales_region\"]) == {\"NE\"}, \"Sales reps from Boston should be in the NE region\""
   ]
  },
  {
   "cell_type": "code",
   "execution_count": null,
   "id": "57ab8606-a9b3-45be-baca-443a0149314d",
   "metadata": {
    "deletable": false,
    "editable": false,
    "nbgrader": {
     "cell_type": "code",
     "checksum": "8692e96eb3b4c48be3813780e67a364a",
     "grade": true,
     "grade_id": "cell-f4d9210a50b6eea1",
     "locked": true,
     "points": 2,
     "schema_version": 3,
     "solution": false,
     "task": false
    },
    "tags": []
   },
   "outputs": [],
   "source": [
    "# This is a test\n",
    "\n",
    "df = pd.read_csv(\"sales.csv\")\n",
    "filled = fill_in_regions(df)\n",
    "assert filled[\"home_city\"].isna().sum() == 0, \"There should not be any null values in your answer\""
   ]
  },
  {
   "cell_type": "code",
   "execution_count": null,
   "id": "e0b9c2c9-4d34-4b94-8f77-b399c5a2d086",
   "metadata": {
    "deletable": false,
    "nbgrader": {
     "cell_type": "code",
     "checksum": "295fdf13146f1ad6f566f3513f8a57d6",
     "grade": false,
     "grade_id": "cell-a950fdfef9bb4732",
     "locked": false,
     "schema_version": 3,
     "solution": true,
     "task": false
    },
    "tags": []
   },
   "outputs": [],
   "source": [
    "def mean_sales_by_region(input_df: DataFrame) -> DataFrame:\n",
    "    '''\n",
    "    Return the mean sales by region for the dataframe\n",
    "    \n",
    "    Use the region as the index for the output dataframe. If you pass the next\n",
    "    test, you have done that\n",
    "    '''\n",
    "    input_df = fill_in_regions(input_df)\n",
    "    input_df = input_df.drop(\"sales_rep_id_number\", axis=1)\n",
    "    # YOUR CODE HERE\n",
    "    raise NotImplementedError()"
   ]
  },
  {
   "cell_type": "code",
   "execution_count": null,
   "id": "09c1097e-47b2-4c93-9013-9c9e3aa23590",
   "metadata": {
    "deletable": false,
    "editable": false,
    "nbgrader": {
     "cell_type": "code",
     "checksum": "5e24bcee66a1047703363f4f0670d6ba",
     "grade": true,
     "grade_id": "cell-9d9dbec85a3a0c3b",
     "locked": true,
     "points": 2,
     "schema_version": 3,
     "solution": false,
     "task": false
    },
    "tags": []
   },
   "outputs": [],
   "source": [
    "# This is a test\n",
    "assert int(mean_sales_by_region(df).loc[\"NE\"][\"sales\"]) == 2546"
   ]
  },
  {
   "cell_type": "code",
   "execution_count": null,
   "id": "6238d45e-898b-406e-8608-3ba8c5d0cf23",
   "metadata": {
    "deletable": false,
    "editable": false,
    "nbgrader": {
     "cell_type": "code",
     "checksum": "c92edc550e13cd8a764ec0d58fd36bbd",
     "grade": true,
     "grade_id": "cell-6c8f9c27bd99ca9d",
     "locked": true,
     "points": 2,
     "schema_version": 3,
     "solution": false,
     "task": false
    },
    "tags": []
   },
   "outputs": [],
   "source": [
    "# This is a test\n",
    "\n",
    "total = mean_sales_by_region(df).reset_index()[\"sales\"].sum()\n",
    "assert round(total) == 10013"
   ]
  },
  {
   "cell_type": "code",
   "execution_count": null,
   "id": "15ffee97-d798-47ab-a5ef-d14b8abf16a5",
   "metadata": {
    "deletable": false,
    "editable": false,
    "nbgrader": {
     "cell_type": "code",
     "checksum": "af22c819e1700a98cfab309540265c92",
     "grade": true,
     "grade_id": "cell-263a7fb5eefc259a",
     "locked": true,
     "points": 2,
     "schema_version": 3,
     "solution": false,
     "task": false
    },
    "tags": []
   },
   "outputs": [],
   "source": [
    "# This is a hidden test\n"
   ]
  },
  {
   "cell_type": "markdown",
   "id": "bedd9ff5-28ad-4ddb-a994-3366f490d1f0",
   "metadata": {
    "deletable": false,
    "editable": false,
    "nbgrader": {
     "cell_type": "markdown",
     "checksum": "ddfd59487993bc8ba91f9435dc492e44",
     "grade": false,
     "grade_id": "cell-7839b0cbf5286ead",
     "locked": true,
     "schema_version": 3,
     "solution": false,
     "task": false
    },
    "tags": []
   },
   "source": [
    "### Challenge problem \n",
    "- The challenge problem is hard! If you get everything but the challenge problem you will earn 21/25 on the assignment\n",
    "- Say you have a Series of numerical values. One value will be the biggest, one will be the smallest.\n",
    "- There will be some value that is at the midpoint of the series, meaning it is bigger than 1/2 of the elements of the series and smaller than half of the elements of the series.\n",
    "- We can describe this value as the 50th percentile\n",
    "- Similarly, if we have some value that is bigger than 10% of a series, we can call it the 10th percentile.\n",
    "- To get percentiles in pandas you use the quantile function [quantile](https://pandas.pydata.org/docs/reference/api/pandas.DataFrame.quantile.html) function.\n",
    "- This will return the value of a series which is higher than a fraction `q` of a series\n",
    "- For instance, if `q=.6` then the quantile function will return a value that is bigger than 60% of the other values in the series."
   ]
  },
  {
   "cell_type": "code",
   "execution_count": null,
   "id": "272f4849-76e9-4baf-aee3-6e83f0bd9821",
   "metadata": {},
   "outputs": [],
   "source": [
    "# here is an example of the quantile function\n",
    "example = []\n",
    "for n in range(1000):\n",
    "    example.append({\"value\": n})\n",
    "dfmini = pd.DataFrame(example)\n",
    "\n",
    "dfmini['value'].quantile(q=.6) # note this value is amgiguous, 599.8 would also work"
   ]
  },
  {
   "cell_type": "markdown",
   "id": "40b38452-dd6b-4c7a-877e-3870d593b12b",
   "metadata": {},
   "source": [
    "For the challenge problem, add a new column to the dataframe called `bonus` which sets a Boolean to True for all workers who sell more than 98% other sales reps **in their region**. The `bonus` column should be False otherwise.\n",
    "\n",
    "**Important** your code must run without any pandas warnings to get full credit for the assignment. You may have to do a little research online and do a little thinking to find out how to resolve any warnings. Understanding how top to resolve and fix pandas warnings is an important programming skill. A warning will appear as a little box with an error message below your code. If you don't see a box like this, you don't have any warnings.\n",
    "\n",
    "_Hint_: One possible warning you might see when coding will arise if you try to set values on a subset of a dataframe. Think about ways to avoid this, perhaps using [copy](https://pandas.pydata.org/docs/reference/api/pandas.DataFrame.copy.html)."
   ]
  },
  {
   "cell_type": "code",
   "execution_count": null,
   "id": "6aa71459-c6d8-4ab0-b846-bfeed05a8378",
   "metadata": {
    "deletable": false,
    "nbgrader": {
     "cell_type": "code",
     "checksum": "2a12ff77a273229f17d45bb93bcd1a35",
     "grade": false,
     "grade_id": "cell-c19c370748b4b272",
     "locked": false,
     "schema_version": 3,
     "solution": true,
     "task": false
    },
    "tags": []
   },
   "outputs": [],
   "source": [
    "def bonus_workers(input_df):\n",
    "    '''\n",
    "    Return the same data frame with an \n",
    "    additional boolean column set to True \n",
    "    for all sales reps who had sales that were\n",
    "    higher than 98% of other reps in their **region**\n",
    "    '''\n",
    "    # YOUR CODE HERE\n",
    "    raise NotImplementedError()\n",
    "\n",
    "df = pd.read_csv(\"sales.csv\")\n",
    "df2 = bonus_workers(df)"
   ]
  },
  {
   "cell_type": "code",
   "execution_count": null,
   "id": "0f11489a-a716-4edf-8bf6-56689cd9a0df",
   "metadata": {
    "deletable": false,
    "editable": false,
    "nbgrader": {
     "cell_type": "code",
     "checksum": "f5580ad0b7a78220e97dfaa02d4b6670",
     "grade": true,
     "grade_id": "cell-ba1f84391f8c2ed3",
     "locked": true,
     "points": 4,
     "schema_version": 3,
     "solution": false,
     "task": false
    },
    "tags": []
   },
   "outputs": [],
   "source": [
    "# this is a hidden test\n"
   ]
  }
 ],
 "metadata": {
  "kernelspec": {
   "display_name": "Python 3 (ipykernel)",
   "language": "python",
   "name": "python3"
  },
  "language_info": {
   "codemirror_mode": {
    "name": "ipython",
    "version": 3
   },
   "file_extension": ".py",
   "mimetype": "text/x-python",
   "name": "python",
   "nbconvert_exporter": "python",
   "pygments_lexer": "ipython3",
   "version": "3.11.0"
  }
 },
 "nbformat": 4,
 "nbformat_minor": 5
}
